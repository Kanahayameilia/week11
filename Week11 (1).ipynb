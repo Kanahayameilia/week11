{
  "nbformat": 4,
  "nbformat_minor": 0,
  "metadata": {
    "colab": {
      "provenance": []
    },
    "kernelspec": {
      "name": "python3",
      "display_name": "Python 3"
    },
    "language_info": {
      "name": "python"
    }
  },
  "cells": [
    {
      "cell_type": "markdown",
      "source": [
        "Python Module\n",
        "Module Python adalah file yang berisi kumpulan kode Python."
      ],
      "metadata": {
        "id": "IjEj4jsTooXJ"
      }
    },
    {
      "cell_type": "markdown",
      "source": [
        "Membuat Modul\n",
        "Membuatnya dapat menggunakan pernyataan import. Python akan memproses langkah-langkah secara bertahap, seperti membuat modul, mengimpor modul, hingga melakukan impor pada item spesifik."
      ],
      "metadata": {
        "id": "djSzlH4wox14"
      }
    },
    {
      "cell_type": "markdown",
      "source": [
        "Menggunakan Modul"
      ],
      "metadata": {
        "id": "LQtrG_pHo7Qo"
      }
    },
    {
      "cell_type": "markdown",
      "source": [
        "Buat File baru dengan nama myModule.py dengan isi"
      ],
      "metadata": {
        "id": "6isNZji3rzX4"
      }
    },
    {
      "cell_type": "code",
      "source": [
        "def greeting(name):\n",
        "  print(\"Hello, \" + name)"
      ],
      "metadata": {
        "id": "HbRBlNmKr3ug"
      },
      "execution_count": 2,
      "outputs": []
    },
    {
      "cell_type": "code",
      "source": [
        "import sys\n",
        "sys.path.append('/content')"
      ],
      "metadata": {
        "id": "do8IAcJup1dA"
      },
      "execution_count": 3,
      "outputs": []
    },
    {
      "cell_type": "code",
      "source": [
        "import myModule\n",
        "\n",
        "myModule.greeting(\"name\")"
      ],
      "metadata": {
        "colab": {
          "base_uri": "https://localhost:8080/"
        },
        "id": "MDCyYc2YpG5Y",
        "outputId": "c9a8c90e-77cf-453f-d155-a44e9210bbc6"
      },
      "execution_count": 5,
      "outputs": [
        {
          "output_type": "stream",
          "name": "stdout",
          "text": [
            "Hello, name\n"
          ]
        }
      ]
    },
    {
      "cell_type": "markdown",
      "source": [
        "Pastikan nama import dan nama file.py sama agar tidak terjadi error"
      ],
      "metadata": {
        "id": "VdhyVSkNsFRg"
      }
    },
    {
      "cell_type": "markdown",
      "source": [
        "Variabel didalam Modul\n",
        "Variabel dalam modul Python adalah variabel global yang didefinisikan di tingkat modul dan cakupannya adalah modul yang memuatnya.\n",
        "Variabel dalam Python adalah nama yang merujuk pada nilai atau objek yang disimpan dalam memori komputer. Variabel merupakan komponen penting dalam program Python dan memiliki beberapa fungsi"
      ],
      "metadata": {
        "id": "LELrqrPvsQ5I"
      }
    },
    {
      "cell_type": "markdown",
      "source": [
        "Buat File.py saya memberi nama modulDua.py dengan isi"
      ],
      "metadata": {
        "id": "540pUyFLspkI"
      }
    },
    {
      "cell_type": "code",
      "source": [
        "person1 = {\n",
        "\n",
        "  \"name\": \"Anaya\",\n",
        "\n",
        "  \"age\": 14,\n",
        "\n",
        "  \"country\": \"Indonesia\"\n",
        "\n",
        "}"
      ],
      "metadata": {
        "id": "r-aUjsSUsfGg"
      },
      "execution_count": 6,
      "outputs": []
    },
    {
      "cell_type": "markdown",
      "source": [
        "Lalu coba dipanggil dengan import modulDua.py, semisal ingin mengambil nilai umur pada modul tersebut"
      ],
      "metadata": {
        "id": "EzJqMuAwtKzw"
      }
    },
    {
      "cell_type": "code",
      "source": [
        "import modulDua\n",
        "\n",
        "a = modulDua.person1[\"age\"]\n",
        "print(a)"
      ],
      "metadata": {
        "colab": {
          "base_uri": "https://localhost:8080/"
        },
        "id": "R2yvGGHgtXbg",
        "outputId": "1b65666e-8656-40d1-95f8-e5e98f8fa25c"
      },
      "execution_count": 7,
      "outputs": [
        {
          "output_type": "stream",
          "name": "stdout",
          "text": [
            "14\n"
          ]
        }
      ]
    },
    {
      "cell_type": "markdown",
      "source": [
        "Mengguanakn fungsi dir()\n",
        "Fungsi dir() digunakan untuk mencari tahu semua nama yang ditetapkan dalam suatu modul. Fungsi ini mengembalikan daftar string yang diurutkan yang berisi nama-nama yang ditetapkan dalam suatu modul."
      ],
      "metadata": {
        "id": "Hw_-CAjEtqXY"
      }
    },
    {
      "cell_type": "code",
      "source": [
        "import platform\n",
        "\n",
        "x = dir(platform)\n",
        "print(x)"
      ],
      "metadata": {
        "colab": {
          "base_uri": "https://localhost:8080/"
        },
        "id": "Bcps8tjPtzfg",
        "outputId": "7a9cee73-98e8-43b8-cb02-98c59debfad3"
      },
      "execution_count": 8,
      "outputs": [
        {
          "output_type": "stream",
          "name": "stdout",
          "text": [
            "['_Processor', '_WIN32_CLIENT_RELEASES', '_WIN32_SERVER_RELEASES', '__builtins__', '__cached__', '__copyright__', '__doc__', '__file__', '__loader__', '__name__', '__package__', '__spec__', '__version__', '_comparable_version', '_component_re', '_default_architecture', '_follow_symlinks', '_get_machine_win32', '_ironpython26_sys_version_parser', '_ironpython_sys_version_parser', '_java_getprop', '_libc_search', '_mac_ver_xml', '_node', '_norm_version', '_os_release_cache', '_os_release_candidates', '_os_release_line', '_os_release_unescape', '_parse_os_release', '_platform', '_platform_cache', '_pypy_sys_version_parser', '_sys_version', '_sys_version_cache', '_sys_version_parser', '_syscmd_file', '_syscmd_ver', '_uname_cache', '_unknown_as_blank', '_ver_output', '_ver_stages', 'architecture', 'collections', 'freedesktop_os_release', 'functools', 'itertools', 'java_ver', 'libc_ver', 'mac_ver', 'machine', 'node', 'os', 'platform', 'processor', 'python_branch', 'python_build', 'python_compiler', 'python_implementation', 'python_revision', 'python_version', 'python_version_tuple', 're', 'release', 'subprocess', 'sys', 'system', 'system_alias', 'uname', 'uname_result', 'version', 'win32_edition', 'win32_is_iot', 'win32_ver']\n"
          ]
        }
      ]
    },
    {
      "cell_type": "markdown",
      "source": [
        "Import dari Modul dengan membuat file.py lagi dengan isi"
      ],
      "metadata": {
        "id": "IjZJliyqt-wH"
      }
    },
    {
      "cell_type": "code",
      "source": [
        "from modul3 import person1\n",
        "\n",
        "print (person1[\"age\"])"
      ],
      "metadata": {
        "colab": {
          "base_uri": "https://localhost:8080/"
        },
        "id": "FEQbNYqcuIFI",
        "outputId": "3eebd9d5-6f8b-4015-dbae-5d67c31ef04a"
      },
      "execution_count": 15,
      "outputs": [
        {
          "output_type": "stream",
          "name": "stdout",
          "text": [
            "14\n"
          ]
        }
      ]
    },
    {
      "cell_type": "markdown",
      "source": [
        "Weekly Exercise 1\n",
        "Buatlah sebuah module dengan nama matematika.py lalu isikan dengan :Konstanta Pi, fungsi menghitung luas lingkaran, fungsi menghitung luas persegi"
      ],
      "metadata": {
        "id": "c1tjiXRku--A"
      }
    },
    {
      "cell_type": "code",
      "source": [
        "import matematiika as lk\n",
        "\n",
        "luas_lingkaran = lk.luas_lingkaran(radius=10)\n",
        "\n",
        "print(\"Luas Lingkaran: \", luas_lingkaran)"
      ],
      "metadata": {
        "colab": {
          "base_uri": "https://localhost:8080/"
        },
        "id": "QB4M53uYvRQQ",
        "outputId": "0c8943c9-c59e-4246-9ec8-35860c114bd0"
      },
      "execution_count": 1,
      "outputs": [
        {
          "output_type": "stream",
          "name": "stdout",
          "text": [
            "Luas Lingkaran:  314.0\n"
          ]
        }
      ]
    },
    {
      "cell_type": "code",
      "source": [
        "import matematiika as lp\n",
        "\n",
        "luas_persegi = lp.luas_persegi(sisi=8)\n",
        "\n",
        "print(\"Luas Persegi: \", luas_persegi)"
      ],
      "metadata": {
        "colab": {
          "base_uri": "https://localhost:8080/"
        },
        "id": "bbK6Neya2d3o",
        "outputId": "3f3bfa2d-7971-46d3-a191-3a786f586e35"
      },
      "execution_count": 2,
      "outputs": [
        {
          "output_type": "stream",
          "name": "stdout",
          "text": [
            "Luas Persegi:  64\n"
          ]
        }
      ]
    },
    {
      "cell_type": "markdown",
      "source": [
        "Weekly Exercise 2 Manfaatkan built-in module math pada python lalu cobalah menggunakan minimal 5 fungsi yang ada pada module tersebut!"
      ],
      "metadata": {
        "id": "vFt6N2hhyx7A"
      }
    },
    {
      "cell_type": "code",
      "source": [
        "import hitung2 as lpp\n",
        "\n",
        "luas_persegi_panjang = lpp.luas_persegi_panjang(p=15, l=5)\n",
        "\n",
        "print(\"Luas Persegi Panjang: \", luas_persegi_panjang)"
      ],
      "metadata": {
        "colab": {
          "base_uri": "https://localhost:8080/"
        },
        "id": "epuIeWsIy8tY",
        "outputId": "10a387df-ea1a-4eb6-875c-daaa91ac784f"
      },
      "execution_count": 4,
      "outputs": [
        {
          "output_type": "stream",
          "name": "stdout",
          "text": [
            "Luas Persegi Panjang:  75\n"
          ]
        }
      ]
    },
    {
      "cell_type": "code",
      "source": [
        "import hitung2 as lt\n",
        "\n",
        "luas_segi_T = lt.luas_segi_T(a=5, t=6)\n",
        "\n",
        "print(\"Luas Segitiga:\", luas_segi_T)"
      ],
      "metadata": {
        "colab": {
          "base_uri": "https://localhost:8080/"
        },
        "id": "b4oInWSE9Fm3",
        "outputId": "af3048d6-fce1-44ba-ad5f-df03c7276641"
      },
      "execution_count": 2,
      "outputs": [
        {
          "output_type": "stream",
          "name": "stdout",
          "text": [
            "Luas Segitiga: 15.0\n"
          ]
        }
      ]
    },
    {
      "cell_type": "code",
      "source": [
        "import hitung2 as vt\n",
        "\n",
        "vol_tabung = vt.vol_tabung(r=7, h=20)\n",
        "\n",
        "print(\"Volume Tabung:\", vol_tabung)"
      ],
      "metadata": {
        "colab": {
          "base_uri": "https://localhost:8080/"
        },
        "id": "YoF3pv3W-iTX",
        "outputId": "450e4601-21b1-4bcb-89da-5649d82fab03"
      },
      "execution_count": 1,
      "outputs": [
        {
          "output_type": "stream",
          "name": "stdout",
          "text": [
            "Volume Tabung: 3077.2000000000003\n"
          ]
        }
      ]
    },
    {
      "cell_type": "code",
      "source": [
        "import hitung2 as jj\n",
        "\n",
        "jaj_gen = jj.jej_gen(a=9, t=8)\n",
        "print(\"Luas Jajar Genjang:\", jaj_gen)"
      ],
      "metadata": {
        "colab": {
          "base_uri": "https://localhost:8080/"
        },
        "id": "qpFJPdw1-9R3",
        "outputId": "f1496291-1127-4b1b-9da7-6b17b47a52e3"
      },
      "execution_count": 4,
      "outputs": [
        {
          "output_type": "stream",
          "name": "stdout",
          "text": [
            "Luas Jajar Genjang: 72\n"
          ]
        }
      ]
    },
    {
      "cell_type": "code",
      "source": [
        "import hitung2 as trp\n",
        "trp_trape = trp.trp_trape(a=9, b=5, t=10)\n",
        "print(\"Luas Trapesium:\", trp_trape)"
      ],
      "metadata": {
        "colab": {
          "base_uri": "https://localhost:8080/"
        },
        "id": "JZHUDL9Q_glO",
        "outputId": "27c8bd31-f9e2-4c3d-a97d-75fe6326fd09"
      },
      "execution_count": 1,
      "outputs": [
        {
          "output_type": "stream",
          "name": "stdout",
          "text": [
            "Luas Trapesium: 70.0\n"
          ]
        }
      ]
    }
  ]
}